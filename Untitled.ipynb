{
 "cells": [
  {
   "cell_type": "code",
   "execution_count": 1,
   "metadata": {},
   "outputs": [
    {
     "name": "stdout",
     "output_type": "stream",
     "text": [
      "Calculator\n",
      "1.Add\n",
      "2.Substract\n",
      "3.Multiply\n",
      "4.Divide\n",
      "Enter Choice(1-4): 1\n",
      "Enter A:2\n",
      "Enter B:3\n",
      "Sum =  5\n"
     ]
    }
   ],
   "source": [
    "# menus\n",
    "print(\"Calculator\")\n",
    "print(\"1.Add\")\n",
    "print(\"2.Substract\")\n",
    "print(\"3.Multiply\")\n",
    "print(\"4.Divide\")\n",
    "\n",
    "# input choice\n",
    "ch=int(input(\"Enter Choice(1-4): \"))\n",
    "\n",
    "if ch==1:\n",
    "    a=int(input(\"Enter A:\"))\n",
    "    b=int(input(\"Enter B:\"))\n",
    "    c=a+b\n",
    "    print(\"Sum = \",c)\n",
    "elif ch==2:\n",
    "    a=int(input(\"Enter A:\"))\n",
    "    b=int(input(\"Enter B:\"))\n",
    "    c=a-b\n",
    "    print(\"Difference = \",c)\n",
    "elif  ch==3:\n",
    "    a=int(input(\"Enter A:\"))\n",
    "    b=int(input(\"Enter B:\"))\n",
    "    c=a*b\n",
    "    print(\"Product = \",c)\n",
    "elif ch==4:\n",
    "    a=int(input(\"Enter A:\"))\n",
    "    b=int(input(\"Enter B:\"))\n",
    "    c=a/b\n",
    "    print(\"Quotient = \",c)\n",
    "else:\n",
    "    print(\"Invalid Choice\")"
   ]
  },
  {
   "cell_type": "code",
   "execution_count": null,
   "metadata": {},
   "outputs": [],
   "source": []
  }
 ],
 "metadata": {
  "kernelspec": {
   "display_name": "Python 3",
   "language": "python",
   "name": "python3"
  },
  "language_info": {
   "codemirror_mode": {
    "name": "ipython",
    "version": 3
   },
   "file_extension": ".py",
   "mimetype": "text/x-python",
   "name": "python",
   "nbconvert_exporter": "python",
   "pygments_lexer": "ipython3",
   "version": "3.8.5"
  }
 },
 "nbformat": 4,
 "nbformat_minor": 4
}
